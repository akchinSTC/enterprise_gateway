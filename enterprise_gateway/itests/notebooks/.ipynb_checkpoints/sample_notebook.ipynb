{
 "cells": [
  {
   "cell_type": "code",
   "execution_count": 1,
   "metadata": {
    "name": "Hello World",
    "regex": "Hello World",
    "scrolled": true
   },
   "outputs": [
    {
     "name": "stdout",
     "output_type": "stream",
     "text": [
      "Hello World\n"
     ]
    }
   ],
   "source": [
    "print(\"Hello World\")"
   ]
  },
  {
   "cell_type": "code",
   "execution_count": 2,
   "metadata": {
    "name": "Application ID",
    "regex": "application_*",
    "scrolled": true
   },
   "outputs": [
    {
     "name": "stdout",
     "output_type": "stream",
     "text": [
      "application_1512070656800_0216\n"
     ]
    }
   ],
   "source": [
    "print sc.applicationId"
   ]
  },
  {
   "cell_type": "code",
   "execution_count": 3,
   "metadata": {
    "name": "Spark Version",
    "regex": "2.*",
    "scrolled": true
   },
   "outputs": [
    {
     "data": {
      "text/plain": [
       "u'2.1.1.2.6.2.0-205'"
      ]
     },
     "execution_count": 3,
     "metadata": {},
     "output_type": "execute_result"
    }
   ],
   "source": [
    "sc.version"
   ]
  },
  {
   "cell_type": "code",
   "execution_count": 4,
   "metadata": {
    "name": "Resource Manager",
    "regex": "yarn*",
    "scrolled": true
   },
   "outputs": [
    {
     "data": {
      "text/plain": [
       "u'yarn'"
      ]
     },
     "execution_count": 4,
     "metadata": {},
     "output_type": "execute_result"
    }
   ],
   "source": [
    "sc.getConf().get(\"spark.master\")"
   ]
  },
  {
   "cell_type": "code",
   "execution_count": 5,
   "metadata": {
    "name": "Deploy Mode",
    "regex": "(cluster|client)"
   },
   "outputs": [
    {
     "data": {
      "text/plain": [
       "u'cluster'"
      ]
     },
     "execution_count": 5,
     "metadata": {},
     "output_type": "execute_result"
    }
   ],
   "source": [
    "sc.getConf().get(\"spark.submit.deployMode\")"
   ]
  },
  {
   "cell_type": "code",
   "execution_count": 6,
   "metadata": {
    "name": "Driver Host",
    "regex": "\\d{1,3}\\.\\d{1,3}\\.\\d{1,3}\\.\\d{1,3}",
    "scrolled": true
   },
   "outputs": [
    {
     "name": "stdout",
     "output_type": "stream",
     "text": [
      "172.16.155.186\n"
     ]
    }
   ],
   "source": [
    "print sc.getConf().get(\"spark.driver.host\")"
   ]
  }
 ],
 "metadata": {
  "celltoolbar": "Edit Metadata",
  "kernelspec": {
   "display_name": "Spark - Python (YARN Cluster Mode)",
   "language": "python",
   "name": "spark_python_yarn_cluster"
  },
  "language_info": {
   "codemirror_mode": {
    "name": "ipython",
    "version": 2
   },
   "file_extension": ".py",
   "mimetype": "text/x-python",
   "name": "python",
   "nbconvert_exporter": "python",
   "pygments_lexer": "ipython2",
   "version": "2.7.14"
  }
 },
 "nbformat": 4,
 "nbformat_minor": 1
}
